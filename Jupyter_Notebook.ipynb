{
 "cells": [
  {
   "cell_type": "markdown",
   "metadata": {},
   "source": [
    "<center>\n",
    "    <img src=\"https://cf-courses-data.s3.us.cloud-object-storage.appdomain.cloud/IBMDeveloperSkillsNetwork-DS0105EN-SkillsNetwork/labs/Module2/images/SN_web_lightmode.png\" width=\"300\" alt=\"cognitiveclass.ai logo\">\n",
    "</center>\n"
   ]
  },
  {
   "cell_type": "markdown",
   "metadata": {},
   "source": [
    "#### Add your code below following the instructions given in the course\n"
   ]
  },
  {
   "cell_type": "markdown",
   "metadata": {},
   "source": [
    "# Exercise 2 - Create a markdown cell with the title of the notebook"
   ]
  },
  {
   "cell_type": "markdown",
   "metadata": {},
   "source": [
    "# Jupyter_Notebook"
   ]
  },
  {
   "cell_type": "markdown",
   "metadata": {},
   "source": [
    "# Jupyter_Notebook"
   ]
  },
  {
   "cell_type": "markdown",
   "metadata": {},
   "source": [
    "# Exercise 3 - Create a markdown cell for an introduction"
   ]
  },
  {
   "cell_type": "markdown",
   "metadata": {},
   "source": [
    "# Introduction to Data Science\n",
    "\n",
    "Data Science is an interdisciplinary field that combines various techniques and methodologies to extract knowledge and insights from data. It involves collecting, cleaning, analyzing, and interpreting large volumes of data to uncover patterns, trends, and meaningful information.\n"
   ]
  },
  {
   "cell_type": "markdown",
   "metadata": {},
   "source": [
    "# Introduction to Data Science\n",
    "\n",
    "Data Science is an interdisciplinary field that combines various techniques and methodologies to extract knowledge and insights from data. It involves collecting, cleaning, analyzing, and interpreting large volumes of data to uncover patterns, trends, and meaningful information."
   ]
  },
  {
   "cell_type": "markdown",
   "metadata": {},
   "source": [
    "# Exercise 4 - Create a markdown cell to list data science languages"
   ]
  },
  {
   "cell_type": "markdown",
   "metadata": {},
   "source": [
    "### Data Science Languages\n",
    "\n",
    "- **Python**: General-purpose programming language with extensive libraries and frameworks for data science, machine learning, and scientific computing.\n",
    "- **R**: Statistical programming language with a vast ecosystem of packages for statistical analysis, data manipulation, and visualization.\n",
    "- **SQL**: Language for managing and querying relational databases, often used for data extraction, transformation, and analysis.\n",
    "- **Julia**: High-level, high-performance programming language for technical computing and data science.\n",
    "- **Scala**: Scalable language used in big data processing frameworks like Apache Spark.\n",
    "- **Java**: General-purpose programming language with libraries and frameworks for data processing and machine learning.\n",
    "- **C++**: General-purpose programming language with libraries for high-performance computing and numerical operations.\n",
    "- **MATLAB**: Proprietary programming language and environment for numerical computing and data analysis.\n"
   ]
  },
  {
   "cell_type": "markdown",
   "metadata": {},
   "source": [
    "### Data Science Languages\n",
    "\n",
    "- **Python**: General-purpose programming language with extensive libraries and frameworks for data science, machine learning, and scientific computing.\n",
    "- **R**: Statistical programming language with a vast ecosystem of packages for statistical analysis, data manipulation, and visualization.\n",
    "- **SQL**: Language for managing and querying relational databases, often used for data extraction, transformation, and analysis.\n",
    "- **Julia**: High-level, high-performance programming language for technical computing and data science.\n",
    "- **Scala**: Scalable language used in big data processing frameworks like Apache Spark.\n",
    "- **Java**: General-purpose programming language with libraries and frameworks for data processing and machine learning.\n",
    "- **C++**: General-purpose programming language with libraries for high-performance computing and numerical operations.\n",
    "- **MATLAB**: Proprietary programming language and environment for numerical computing and data analysis.\n"
   ]
  },
  {
   "cell_type": "markdown",
   "metadata": {},
   "source": [
    "# Exercise 5 - Create a markdown cell to list data science libraries"
   ]
  },
  {
   "cell_type": "markdown",
   "metadata": {},
   "source": [
    "### Data Science Libraries\n",
    "\n",
    "- **NumPy**: Library for numerical computing in Python.\n",
    "- **Pandas**: Data manipulation and analysis library for Python.\n",
    "- **Matplotlib**: Plotting library for creating static, animated, and interactive visualizations.\n",
    "- **Seaborn**: Statistical data visualization library based on Matplotlib.\n",
    "- **scikit-learn**: Machine learning library providing a range of algorithms for classification, regression, clustering, and more.\n",
    "- **TensorFlow**: Open-source machine learning framework developed by Google.\n",
    "- **PyTorch**: Deep learning framework widely used for research and production.\n",
    "- **Keras**: High-level neural networks API, often used with TensorFlow or PyTorch.\n",
    "- **SciPy**: Scientific computing library for mathematics, science, and engineering.\n",
    "- **StatsModels**: Statistical modeling and testing library.\n",
    "- **NLTK**: Natural Language Toolkit for working with human language data.\n",
    "- **OpenCV**: Library for computer vision tasks such as image and video processing.\n"
   ]
  },
  {
   "cell_type": "markdown",
   "metadata": {},
   "source": [
    "### Data Science Libraries\n",
    "\n",
    "- **NumPy**: Library for numerical computing in Python.\n",
    "- **Pandas**: Data manipulation and analysis library for Python.\n",
    "- **Matplotlib**: Plotting library for creating static, animated, and interactive visualizations.\n",
    "- **Seaborn**: Statistical data visualization library based on Matplotlib.\n",
    "- **scikit-learn**: Machine learning library providing a range of algorithms for classification, regression, clustering, and more.\n",
    "- **TensorFlow**: Open-source machine learning framework developed by Google.\n",
    "- **PyTorch**: Deep learning framework widely used for research and production.\n",
    "- **Keras**: High-level neural networks API, often used with TensorFlow or PyTorch.\n",
    "- **SciPy**: Scientific computing library for mathematics, science, and engineering.\n",
    "- **StatsModels**: Statistical modeling and testing library.\n",
    "- **NLTK**: Natural Language Toolkit for working with human language data.\n",
    "- **OpenCV**: Library for computer vision tasks such as image and video processing.\n"
   ]
  },
  {
   "cell_type": "markdown",
   "metadata": {},
   "source": [
    "# Exercise 6 - Create a markdown cell with a table of Data Science tools"
   ]
  },
  {
   "cell_type": "markdown",
   "metadata": {},
   "source": [
    "| Tool             | Description                                                                                      |\n",
    "|------------------|--------------------------------------------------------------------------------------------------|\n",
    "| Python           | General-purpose programming language with extensive libraries for Data Science and Machine Learning |\n",
    "| R                | Statistical programming language with rich ecosystem for statistical analysis and visualization  |\n",
    "| TensorFlow       | Open-source machine learning framework developed by Google                                       |\n",
    "| PyTorch          | Deep learning framework widely used for research and production                                  |\n",
    "| scikit-learn     | Machine learning library in Python offering various algorithms and utilities                     |\n",
    "| NumPy            | Library for numerical computing in Python                                                        |\n",
    "| Pandas           | Data manipulation and analysis library for Python                                                 |\n",
    "| Jupyter Notebook | Interactive web-based environment for creating and sharing documents with code                   |\n",
    "| Tableau          | Data visualization tool for creating interactive visualizations and dashboards                    |\n",
    "| KNIME            | Open-source data analytics platform for building and deploying data science workflows            |\n"
   ]
  },
  {
   "cell_type": "markdown",
   "metadata": {},
   "source": [
    "| Tool             | Description                                                                                      |\n",
    "|------------------|--------------------------------------------------------------------------------------------------|\n",
    "| Python           | General-purpose programming language with extensive libraries for Data Science and Machine Learning |\n",
    "| R                | Statistical programming language with rich ecosystem for statistical analysis and visualization  |\n",
    "| TensorFlow       | Open-source machine learning framework developed by Google                                       |\n",
    "| PyTorch          | Deep learning framework widely used for research and production                                  |\n",
    "| scikit-learn     | Machine learning library in Python offering various algorithms and utilities                     |\n",
    "| NumPy            | Library for numerical computing in Python                                                        |\n",
    "| Pandas           | Data manipulation and analysis library for Python                                                 |\n",
    "| Jupyter Notebook | Interactive web-based environment for creating and sharing documents with code                   |\n",
    "| Tableau          | Data visualization tool for creating interactive visualizations and dashboards                    |\n",
    "| KNIME            | Open-source data analytics platform for building and deploying data science workflows            |\n"
   ]
  },
  {
   "cell_type": "markdown",
   "metadata": {},
   "source": [
    "# Exercise 7 - Create a markdown cell introducing arithmetic expression examples"
   ]
  },
  {
   "cell_type": "markdown",
   "metadata": {},
   "source": [
    "## Arithmetic Expressions\n",
    "\n",
    "Arithmetic expressions involve mathematical operations such as addition, subtraction, multiplication, and division. \n",
    "\n",
    "Here are a few examples of arithmetic expressions:\n",
    "\n",
    "1. Addition: `2 + 3` equals `5`.\n",
    "2. Subtraction: `7 - 4` equals `3`.\n",
    "3. Multiplication: `5 * 6` equals `30`.\n",
    "4. Division: `10 / 2` equals `5`."
   ]
  },
  {
   "cell_type": "markdown",
   "metadata": {},
   "source": [
    "## Arithmetic Expressions\n",
    "\n",
    "Arithmetic expressions involve mathematical operations such as addition, subtraction, multiplication, and division. \n",
    "\n",
    "Here are a few examples of arithmetic expressions:\n",
    "\n",
    "1. Addition: `2 + 3` equals `5`.\n",
    "2. Subtraction: `7 - 4` equals `3`.\n",
    "3. Multiplication: `5 * 6` equals `30`.\n",
    "4. Division: `10 / 2` equals `5`."
   ]
  },
  {
   "cell_type": "markdown",
   "metadata": {},
   "source": [
    "# Exercise 8 - Create a code cell to multiply and add numbers"
   ]
  },
  {
   "cell_type": "code",
   "execution_count": 2,
   "metadata": {},
   "outputs": [
    {
     "name": "stdout",
     "output_type": "stream",
     "text": [
      "Multiplication Result: 15\n",
      "Addition Result: 17\n"
     ]
    }
   ],
   "source": [
    "# Multiply two numbers\n",
    "num1 = 5\n",
    "num2 = 3\n",
    "result_multiply = num1 * num2\n",
    "print(\"Multiplication Result:\", result_multiply)\n",
    "\n",
    "# Add two numbers\n",
    "num3 = 10\n",
    "num4 = 7\n",
    "result_add = num3 + num4\n",
    "print(\"Addition Result:\", result_add)\n"
   ]
  },
  {
   "cell_type": "markdown",
   "metadata": {},
   "source": [
    "# Exercise 9 - Create a code cell to convert minutes to hours"
   ]
  },
  {
   "cell_type": "code",
   "execution_count": 3,
   "metadata": {},
   "outputs": [
    {
     "name": "stdout",
     "output_type": "stream",
     "text": [
      "Minutes: 150\n",
      "Hours: 2.5\n"
     ]
    }
   ],
   "source": [
    "# Convert minutes to hours\n",
    "minutes = 150\n",
    "hours = minutes / 60\n",
    "print(\"Minutes:\", minutes)\n",
    "print(\"Hours:\", hours)"
   ]
  },
  {
   "cell_type": "markdown",
   "metadata": {},
   "source": [
    "# Exercise 10 -Insert a markdown cell to list Objectives"
   ]
  },
  {
   "cell_type": "markdown",
   "metadata": {},
   "source": [
    "## Objectives\n",
    "\n",
    "In this project, our main objectives are:\n",
    "\n",
    "1. Collect and preprocess the dataset\n",
    "\n",
    "2. Explore and analyze the data\n",
    "\n",
    "3. Build and evaluate predictive models:\n",
    "\n",
    "4. Interpret the results and provide insights\n",
    "\n",
    "5. Communicate findings: "
   ]
  },
  {
   "cell_type": "markdown",
   "metadata": {},
   "source": [
    "## Objectives\n",
    "\n",
    "In this project, our main objectives are:\n",
    "\n",
    "1. Collect and preprocess the dataset\n",
    "\n",
    "2. Explore and analyze the data\n",
    "\n",
    "3. Build and evaluate predictive models:\n",
    "\n",
    "4. Interpret the results and provide insights\n",
    "\n",
    "5. Communicate findings: "
   ]
  },
  {
   "cell_type": "markdown",
   "metadata": {},
   "source": [
    "# Exercise 11 - Create a markdown cell to indicate the Author’s name"
   ]
  },
  {
   "cell_type": "markdown",
   "metadata": {},
   "source": [
    "**Author: Naklan Julien Camara **\n",
    "\n",
    "This notebook was authored by Naklan Julien Camara. Julien is a Data Scientist with expertise in machine learning, data analysis, and statistical modeling. "
   ]
  },
  {
   "cell_type": "markdown",
   "metadata": {},
   "source": [
    "**Author: Naklan Julien Camara **\n",
    "\n",
    "This notebook was authored by Naklan Julien Camara. Julien is a Data Scientist with expertise in machine learning, data analysis, and statistical modeling. "
   ]
  },
  {
   "cell_type": "markdown",
   "metadata": {},
   "source": [
    "# Exercise 12 - Share your notebook through GitHub"
   ]
  },
  {
   "cell_type": "markdown",
   "metadata": {},
   "source": []
  },
  {
   "cell_type": "markdown",
   "metadata": {},
   "source": []
  },
  {
   "cell_type": "markdown",
   "metadata": {},
   "source": [
    "# Exercise 13 - Take a screenshot of the first page of the notebook"
   ]
  },
  {
   "cell_type": "markdown",
   "metadata": {},
   "source": []
  },
  {
   "cell_type": "markdown",
   "metadata": {},
   "source": []
  },
  {
   "cell_type": "code",
   "execution_count": null,
   "metadata": {},
   "outputs": [],
   "source": []
  },
  {
   "cell_type": "code",
   "execution_count": null,
   "metadata": {},
   "outputs": [],
   "source": []
  }
 ],
 "metadata": {
  "kernelspec": {
   "display_name": "Python 3 (ipykernel)",
   "language": "python",
   "name": "python3"
  },
  "language_info": {
   "codemirror_mode": {
    "name": "ipython",
    "version": 3
   },
   "file_extension": ".py",
   "mimetype": "text/x-python",
   "name": "python",
   "nbconvert_exporter": "python",
   "pygments_lexer": "ipython3",
   "version": "3.9.13"
  }
 },
 "nbformat": 4,
 "nbformat_minor": 4
}
